{
  "cells": [
    {
      "cell_type": "code",
      "source": [
        "import pandas as pd\n",
        "import numpy as np\n",
        "\n",
        "# Load the training and test sets\n",
        "train_df = pd.read_csv('sign_mnist_train.csv')\n",
        "test_df = pd.read_csv('sign_mnist_test.csv')\n",
        "\n",
        "# Extract the labels from the data\n",
        "train_labels = train_df['label'].values\n",
        "test_labels = test_df['label'].values\n",
        "\n",
        "# Remove the label column from the data\n",
        "train_data = train_df.drop(columns=['label']).values\n",
        "test_data = test_df.drop(columns=['label']).values\n",
        "\n",
        "# Reshape the data into 28x28 images\n",
        "train_data = train_data.reshape(-1, 28, 28)\n",
        "test_data = test_data.reshape(-1, 28, 28)"
      ],
      "metadata": {
        "id": "k82X2AtlMA4Y"
      },
      "execution_count": null,
      "outputs": []
    },
    {
      "cell_type": "code",
      "source": [
        "from keras.utils import to_categorical\n",
        "\n",
        "# Set the number of classes in your dataset\n",
        "num_classes = 28\n",
        "\n",
        "# Convert the labels to one-hot vectors\n",
        "train_labels = to_categorical(train_labels, num_classes=num_classes)\n",
        "test_labels = to_categorical(test_labels, num_classes=num_classes)\n"
      ],
      "metadata": {
        "id": "Y2DuW5xSRdKP"
      },
      "execution_count": null,
      "outputs": []
    },
    {
      "cell_type": "code",
      "source": [
        "from keras.models import Sequential\n",
        "from keras.layers import LSTM, Dense\n",
        "\n",
        "# Define the model architecture\n",
        "model = Sequential()\n",
        "model.add(LSTM(128, input_shape=(28, 28)))\n",
        "model.add(Dense(num_classes, activation='softmax'))\n",
        "\n",
        "# Compile the model\n",
        "model.compile(loss='categorical_crossentropy', optimizer='adam', metrics=['accuracy'])\n",
        "\n",
        "# Train the model\n",
        "model.fit(train_data, train_labels, epochs=10, batch_size=128, validation_data=(test_data, test_labels))\n"
      ],
      "metadata": {
        "id": "yH5JDJEeRc4j",
        "outputId": "4abb4dc7-6a52-4fa3-a52b-dedee6183822",
        "colab": {
          "base_uri": "https://localhost:8080/"
        }
      },
      "execution_count": null,
      "outputs": [
        {
          "output_type": "stream",
          "name": "stdout",
          "text": [
            "Epoch 1/10\n",
            "215/215 [==============================] - 16s 65ms/step - loss: 2.8516 - accuracy: 0.1753 - val_loss: 2.6505 - val_accuracy: 0.2083\n",
            "Epoch 2/10\n",
            "215/215 [==============================] - 13s 58ms/step - loss: 2.3150 - accuracy: 0.3441 - val_loss: 2.3602 - val_accuracy: 0.2764\n",
            "Epoch 3/10\n",
            "215/215 [==============================] - 13s 59ms/step - loss: 1.9935 - accuracy: 0.4388 - val_loss: 2.1613 - val_accuracy: 0.3412\n",
            "Epoch 4/10\n",
            "215/215 [==============================] - 13s 59ms/step - loss: 1.8041 - accuracy: 0.4825 - val_loss: 2.0717 - val_accuracy: 0.3833\n",
            "Epoch 5/10\n",
            "215/215 [==============================] - 13s 59ms/step - loss: 1.6674 - accuracy: 0.5198 - val_loss: 1.9863 - val_accuracy: 0.4090\n",
            "Epoch 6/10\n",
            "215/215 [==============================] - 13s 60ms/step - loss: 1.5081 - accuracy: 0.5690 - val_loss: 1.9418 - val_accuracy: 0.4050\n",
            "Epoch 7/10\n",
            "215/215 [==============================] - 14s 64ms/step - loss: 1.4247 - accuracy: 0.5966 - val_loss: 1.8776 - val_accuracy: 0.4077\n",
            "Epoch 8/10\n",
            "215/215 [==============================] - 13s 58ms/step - loss: 1.2989 - accuracy: 0.6313 - val_loss: 1.7590 - val_accuracy: 0.4590\n",
            "Epoch 9/10\n",
            "215/215 [==============================] - 13s 59ms/step - loss: 1.2157 - accuracy: 0.6560 - val_loss: 1.7107 - val_accuracy: 0.4780\n",
            "Epoch 10/10\n",
            "215/215 [==============================] - 13s 59ms/step - loss: 1.1338 - accuracy: 0.6766 - val_loss: 1.7158 - val_accuracy: 0.4607\n"
          ]
        },
        {
          "output_type": "execute_result",
          "data": {
            "text/plain": [
              "<keras.callbacks.History at 0x7f79a50f7eb0>"
            ]
          },
          "metadata": {},
          "execution_count": 7
        }
      ]
    },
    {
      "cell_type": "code",
      "source": [
        "import numpy as np\n",
        "import pandas as pd\n",
        "import tensorflow as tf\n",
        "from tensorflow.keras import layers\n",
        "from PIL import Image\n",
        "\n",
        "# Define the CNN model\n",
        "model = tf.keras.Sequential([\n",
        "    layers.Conv2D(64, (3,3), activation='relu', input_shape=(28,28,1)),\n",
        "    layers.MaxPooling2D(2,2),\n",
        "    layers.Dropout(0.25),\n",
        "    layers.Conv2D(128, (3,3), activation='relu'),\n",
        "    layers.MaxPooling2D(2,2),\n",
        "    layers.Dropout(0.25),\n",
        "    layers.Conv2D(256, (3,3), activation='relu'),\n",
        "    layers.MaxPooling2D(2,2),\n",
        "    layers.Dropout(0.25),\n",
        "    layers.Flatten(),\n",
        "    layers.Dense(512, activation='relu'),\n",
        "    layers.Dropout(0.5),\n",
        "    layers.Dense(25, activation='softmax')\n",
        "])\n",
        "\n",
        "# Compile the model\n",
        "model.compile(optimizer='adam',\n",
        "              loss='categorical_crossentropy',\n",
        "              metrics=['accuracy'])\n",
        "\n",
        "# Load the dataset\n",
        "train = pd.read_csv('sign_mnist_train.csv')\n",
        "test = pd.read_csv('sign_mnist_test.csv')\n",
        "\n",
        "X_train = np.array(train.iloc[:, 1:])\n",
        "y_train = np.array(train.iloc[:, 0])\n",
        "\n",
        "X_test = np.array(test.iloc[:, 1:])\n",
        "y_test = np.array(test.iloc[:, 0])\n",
        "\n",
        "# Reshape the input data\n",
        "X_train = X_train.reshape(-1, 28, 28, 1)\n",
        "X_test = X_test.reshape(-1, 28, 28, 1)\n",
        "\n",
        "# Convert the labels to one-hot encoding\n",
        "y_train = tf.keras.utils.to_categorical(y_train)\n",
        "y_test = tf.keras.utils.to_categorical(y_test)\n",
        "\n",
        "# Train the model\n",
        "model.fit(X_train, y_train, epochs=20, validation_data=(X_test, y_test))\n",
        "\n",
        "test_loss, test_acc = model.evaluate(X_test, y_test)\n",
        "\n",
        "print('Test accuracy:', test_acc)"
      ],
      "metadata": {
        "id": "iJEK3XLZeHoY"
      },
      "execution_count": null,
      "outputs": []
    }
  ],
  "metadata": {
    "colab": {
      "provenance": []
    },
    "kernelspec": {
      "display_name": "Python 3",
      "name": "python3"
    }
  },
  "nbformat": 4,
  "nbformat_minor": 0
}